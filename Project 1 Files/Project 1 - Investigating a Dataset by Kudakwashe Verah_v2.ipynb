{
 "cells": [
  {
   "cell_type": "markdown",
   "id": "4f0da776-2acb-4ad9-98dc-b44510fa3149",
   "metadata": {},
   "source": [
    "# Project 1 - Investigating No Show Medical Appointments\n",
    "by Kudakwashe Verah"
   ]
  },
  {
   "cell_type": "markdown",
   "id": "f5a3c8bc-1982-4ba4-a32b-c5a7d580bc22",
   "metadata": {},
   "source": [
    "## Table of Contents\n",
    "<ul>\n",
    "<li><a href=\"#intro\">Introduction</a></li>\n",
    "<li><a href=\"#wrangling\">Data Wrangling</a></li>\n",
    "<li><a href=\"#eda\">Exploratory Data Analysis</a></li>\n",
    "<li><a href=\"#conclusions\">Conclusions</a></li>\n",
    "</ul>"
   ]
  },
  {
   "cell_type": "markdown",
   "id": "b0b06a9e-00e0-4584-9817-c40fe8199912",
   "metadata": {},
   "source": [
    "<a id='intro'></a>\n",
    "## Introduction\n",
    "\n",
    "> In this dataset, we will be assessing data from around 100,000 medical appointments where some patients did not attend their appointments. In light of this, we will be looking at the factors that we should know so we can better predict potential 'No-Show' patients. The dataset has 14 variables and we will be assessing 3 of those variables.\n",
    ">\n",
    "> The most important variable that we are interested in, is the __'NoShow'__ variable, which indicates whether or not the patient showed up for their scheduled appointment. The descriptions for the __'NoShow'__ variable are as follows: 'No' means the patient showed up for their appointment and 'Yes' means the patient did not show up for their appointment. For a more detailed description of the variables in this dataset, please click the link below: \n",
    "><ul>\n",
    "></ul><li><a href=\"#variables\">Variable Descriptions</a></li>\n",
    "></ul>\n",
    ">\n",
    "\n",
    "\n",
    "> To answer the question of what factors are important for us to know so that we can better predict the likelihood of a patient showing up for their booked appointment, we will focus on 4 variables within this dataset. We will analyse whether the _age_ of the patient is a factor in the patient showing up for their apartment. We will also try to determine if the _gender_ of the patient is factor in them showing up for their appointment. Lastly, we will also try to determine if patients who are on the _scholarship (welfare program)_ will show up for their appointments more or less than those who aren't on it."
   ]
  },
  {
   "cell_type": "code",
   "execution_count": 1,
   "id": "ea77bb4b-046e-4aef-a1be-8a6391c8498c",
   "metadata": {},
   "outputs": [],
   "source": [
    "\"\"\"\n",
    "Importing all the libraries that we will use in investigating this dataset.\n",
    "\"\"\"\n",
    "\n",
    "import numpy as np\n",
    "import pandas as pd\n",
    "import matplotlib.pyplot as plt\n",
    "import seaborn as sns\n",
    "    \n",
    "%matplotlib inline"
   ]
  },
  {
   "cell_type": "code",
   "execution_count": 2,
   "id": "9488592c-3dab-4517-9348-e6324439b95f",
   "metadata": {},
   "outputs": [],
   "source": [
    "# setting a style for the plots\n",
    "sns.set_style('darkgrid')"
   ]
  },
  {
   "cell_type": "markdown",
   "id": "d0b39454-d194-4b40-8ec6-d454c8a99efe",
   "metadata": {},
   "source": [
    "<a id='wrangling'></a>\n",
    "## Data Wrangling\n",
    "\n",
    "> In this section of the report, we will load in the data and check for cleanliness by looking at some information about the variables. We will then clean and trim the dataset for analysis.\n",
    "\n",
    "### General Properties"
   ]
  },
  {
   "cell_type": "code",
   "execution_count": 3,
   "id": "25ddaf13-0929-4af7-aae6-63f723a19342",
   "metadata": {},
   "outputs": [
    {
     "data": {
      "text/html": [
       "<div>\n",
       "<style scoped>\n",
       "    .dataframe tbody tr th:only-of-type {\n",
       "        vertical-align: middle;\n",
       "    }\n",
       "\n",
       "    .dataframe tbody tr th {\n",
       "        vertical-align: top;\n",
       "    }\n",
       "\n",
       "    .dataframe thead th {\n",
       "        text-align: right;\n",
       "    }\n",
       "</style>\n",
       "<table border=\"1\" class=\"dataframe\">\n",
       "  <thead>\n",
       "    <tr style=\"text-align: right;\">\n",
       "      <th></th>\n",
       "      <th>PatientId</th>\n",
       "      <th>AppointmentID</th>\n",
       "      <th>Gender</th>\n",
       "      <th>ScheduledDay</th>\n",
       "      <th>AppointmentDay</th>\n",
       "      <th>Age</th>\n",
       "      <th>Neighbourhood</th>\n",
       "      <th>Scholarship</th>\n",
       "      <th>Hipertension</th>\n",
       "      <th>Diabetes</th>\n",
       "      <th>Alcoholism</th>\n",
       "      <th>Handcap</th>\n",
       "      <th>SMS_received</th>\n",
       "      <th>No-show</th>\n",
       "    </tr>\n",
       "  </thead>\n",
       "  <tbody>\n",
       "    <tr>\n",
       "      <th>0</th>\n",
       "      <td>2.987250e+13</td>\n",
       "      <td>5642903</td>\n",
       "      <td>F</td>\n",
       "      <td>2016-04-29T18:38:08Z</td>\n",
       "      <td>2016-04-29T00:00:00Z</td>\n",
       "      <td>62</td>\n",
       "      <td>JARDIM DA PENHA</td>\n",
       "      <td>0</td>\n",
       "      <td>1</td>\n",
       "      <td>0</td>\n",
       "      <td>0</td>\n",
       "      <td>0</td>\n",
       "      <td>0</td>\n",
       "      <td>No</td>\n",
       "    </tr>\n",
       "    <tr>\n",
       "      <th>1</th>\n",
       "      <td>5.589978e+14</td>\n",
       "      <td>5642503</td>\n",
       "      <td>M</td>\n",
       "      <td>2016-04-29T16:08:27Z</td>\n",
       "      <td>2016-04-29T00:00:00Z</td>\n",
       "      <td>56</td>\n",
       "      <td>JARDIM DA PENHA</td>\n",
       "      <td>0</td>\n",
       "      <td>0</td>\n",
       "      <td>0</td>\n",
       "      <td>0</td>\n",
       "      <td>0</td>\n",
       "      <td>0</td>\n",
       "      <td>No</td>\n",
       "    </tr>\n",
       "    <tr>\n",
       "      <th>2</th>\n",
       "      <td>4.262962e+12</td>\n",
       "      <td>5642549</td>\n",
       "      <td>F</td>\n",
       "      <td>2016-04-29T16:19:04Z</td>\n",
       "      <td>2016-04-29T00:00:00Z</td>\n",
       "      <td>62</td>\n",
       "      <td>MATA DA PRAIA</td>\n",
       "      <td>0</td>\n",
       "      <td>0</td>\n",
       "      <td>0</td>\n",
       "      <td>0</td>\n",
       "      <td>0</td>\n",
       "      <td>0</td>\n",
       "      <td>No</td>\n",
       "    </tr>\n",
       "    <tr>\n",
       "      <th>3</th>\n",
       "      <td>8.679512e+11</td>\n",
       "      <td>5642828</td>\n",
       "      <td>F</td>\n",
       "      <td>2016-04-29T17:29:31Z</td>\n",
       "      <td>2016-04-29T00:00:00Z</td>\n",
       "      <td>8</td>\n",
       "      <td>PONTAL DE CAMBURI</td>\n",
       "      <td>0</td>\n",
       "      <td>0</td>\n",
       "      <td>0</td>\n",
       "      <td>0</td>\n",
       "      <td>0</td>\n",
       "      <td>0</td>\n",
       "      <td>No</td>\n",
       "    </tr>\n",
       "    <tr>\n",
       "      <th>4</th>\n",
       "      <td>8.841186e+12</td>\n",
       "      <td>5642494</td>\n",
       "      <td>F</td>\n",
       "      <td>2016-04-29T16:07:23Z</td>\n",
       "      <td>2016-04-29T00:00:00Z</td>\n",
       "      <td>56</td>\n",
       "      <td>JARDIM DA PENHA</td>\n",
       "      <td>0</td>\n",
       "      <td>1</td>\n",
       "      <td>1</td>\n",
       "      <td>0</td>\n",
       "      <td>0</td>\n",
       "      <td>0</td>\n",
       "      <td>No</td>\n",
       "    </tr>\n",
       "  </tbody>\n",
       "</table>\n",
       "</div>"
      ],
      "text/plain": [
       "      PatientId  AppointmentID Gender          ScheduledDay  \\\n",
       "0  2.987250e+13        5642903      F  2016-04-29T18:38:08Z   \n",
       "1  5.589978e+14        5642503      M  2016-04-29T16:08:27Z   \n",
       "2  4.262962e+12        5642549      F  2016-04-29T16:19:04Z   \n",
       "3  8.679512e+11        5642828      F  2016-04-29T17:29:31Z   \n",
       "4  8.841186e+12        5642494      F  2016-04-29T16:07:23Z   \n",
       "\n",
       "         AppointmentDay  Age      Neighbourhood  Scholarship  Hipertension  \\\n",
       "0  2016-04-29T00:00:00Z   62    JARDIM DA PENHA            0             1   \n",
       "1  2016-04-29T00:00:00Z   56    JARDIM DA PENHA            0             0   \n",
       "2  2016-04-29T00:00:00Z   62      MATA DA PRAIA            0             0   \n",
       "3  2016-04-29T00:00:00Z    8  PONTAL DE CAMBURI            0             0   \n",
       "4  2016-04-29T00:00:00Z   56    JARDIM DA PENHA            0             1   \n",
       "\n",
       "   Diabetes  Alcoholism  Handcap  SMS_received No-show  \n",
       "0         0           0        0             0      No  \n",
       "1         0           0        0             0      No  \n",
       "2         0           0        0             0      No  \n",
       "3         0           0        0             0      No  \n",
       "4         1           0        0             0      No  "
      ]
     },
     "execution_count": 3,
     "metadata": {},
     "output_type": "execute_result"
    }
   ],
   "source": [
    "\"\"\"\n",
    "Loading the 'No Show Appointments' dataset.\n",
    "\"\"\"\n",
    "\n",
    "\n",
    "def load_data():\n",
    "    df = pd.read_csv(r\"C:\\Users\\kvera\\OneDrive - University of Pretoria\\Documents\\Online Courses\\Udacity\\Data Analyst Nanodegree\\Project Files\\Project 1\\Dataset Files\\noshowappointments-kagglev2-may-2016.csv\")\n",
    "    return df\n",
    "\n",
    "if __name__ == '__main__':\n",
    "    df = load_data()\n",
    "\n",
    "# check the first few rows of data to get a picture of what the dataset looks like    \n",
    "df.head()"
   ]
  },
  {
   "cell_type": "code",
   "execution_count": 4,
   "id": "eb27b04f-3801-4f4a-ac1a-33e69b973138",
   "metadata": {},
   "outputs": [
    {
     "data": {
      "text/html": [
       "<div>\n",
       "<style scoped>\n",
       "    .dataframe tbody tr th:only-of-type {\n",
       "        vertical-align: middle;\n",
       "    }\n",
       "\n",
       "    .dataframe tbody tr th {\n",
       "        vertical-align: top;\n",
       "    }\n",
       "\n",
       "    .dataframe thead th {\n",
       "        text-align: right;\n",
       "    }\n",
       "</style>\n",
       "<table border=\"1\" class=\"dataframe\">\n",
       "  <thead>\n",
       "    <tr style=\"text-align: right;\">\n",
       "      <th></th>\n",
       "      <th>PatientID</th>\n",
       "      <th>AppointmentID</th>\n",
       "      <th>Gender</th>\n",
       "      <th>ScheduledDay</th>\n",
       "      <th>AppointmentDay</th>\n",
       "      <th>Age</th>\n",
       "      <th>Neighbourhood</th>\n",
       "      <th>Scholarship</th>\n",
       "      <th>Hypertension</th>\n",
       "      <th>Diabetes</th>\n",
       "      <th>Alcoholism</th>\n",
       "      <th>Handicap</th>\n",
       "      <th>SMSReceived</th>\n",
       "      <th>NoShow</th>\n",
       "    </tr>\n",
       "  </thead>\n",
       "  <tbody>\n",
       "    <tr>\n",
       "      <th>0</th>\n",
       "      <td>2.987250e+13</td>\n",
       "      <td>5642903</td>\n",
       "      <td>F</td>\n",
       "      <td>2016-04-29T18:38:08Z</td>\n",
       "      <td>2016-04-29T00:00:00Z</td>\n",
       "      <td>62</td>\n",
       "      <td>JARDIM DA PENHA</td>\n",
       "      <td>0</td>\n",
       "      <td>1</td>\n",
       "      <td>0</td>\n",
       "      <td>0</td>\n",
       "      <td>0</td>\n",
       "      <td>0</td>\n",
       "      <td>No</td>\n",
       "    </tr>\n",
       "  </tbody>\n",
       "</table>\n",
       "</div>"
      ],
      "text/plain": [
       "      PatientID  AppointmentID Gender          ScheduledDay  \\\n",
       "0  2.987250e+13        5642903      F  2016-04-29T18:38:08Z   \n",
       "\n",
       "         AppointmentDay  Age    Neighbourhood  Scholarship  Hypertension  \\\n",
       "0  2016-04-29T00:00:00Z   62  JARDIM DA PENHA            0             1   \n",
       "\n",
       "   Diabetes  Alcoholism  Handicap  SMSReceived NoShow  \n",
       "0         0           0         0            0     No  "
      ]
     },
     "execution_count": 4,
     "metadata": {},
     "output_type": "execute_result"
    }
   ],
   "source": [
    "\"\"\"\n",
    "We will be renaming some of the columns to maintain uniformity in the column names and correct the spelling errors.\n",
    "\"\"\"\n",
    "\n",
    "# creating a dictionary storing the new column names\n",
    "dict = {'PatientId':'PatientID', 'Hipertension': 'Hypertension', 'Handcap': 'Handicap', 'SMS_received': 'SMSReceived', 'No-show':'NoShow'}\n",
    "\n",
    "# renaming the columns using the above dictionary\n",
    "df.rename(columns = dict, inplace=True)\n",
    "\n",
    "df.head(1)"
   ]
  },
  {
   "cell_type": "markdown",
   "id": "def3653e-ce32-4658-afec-4b0b9a82bba6",
   "metadata": {},
   "source": [
    "<a id='variables'></a>\n",
    "\n",
    "#### Variable Descriptions\n",
    "> A number of characteristics about the patient are included in each row, below are the descriptions of each column:\n",
    ">\n",
    "> - __PatientID:__ Identification of a patient.\n",
    "> - __AppointmentID:__ Identification of each appointment.\n",
    "> - __Gender:__ Male or Female?\n",
    "> - __ScheduleDay:__ Tells us on what day the patient set up their appointment.\n",
    "> - __AppointmentDay:__ The day of the actual appointment.\n",
    "> - __Age:__ How old is the patient?\n",
    "> - __Neighbourhood:__ Indicates the location of the hospital.\n",
    "> - __Scholarship:__ Indicates whether or not the patient is enrolled in Brasilian welfare program Bolsa Família, (0 means 'No' and 1 means 'Yes')\n",
    "> - __Hypertension:__ Indicates whether or not the patient has Hypertension, (0 means 'No' and 1 means 'Yes').\n",
    "> - __Diabetes:__ Indicates whether or not the patient has Diabetes, (0 means 'No' and 1 means 'Yes').\n",
    "> - __Alcoholism:__ Indicates whether or not the patient drinks alcohol, (0 means 'No' and 1 means 'Yes').\n",
    "> - __Handicap:__ Indicates whether or not the patient is handicapped, (0 means 'No' and 1 means 'Yes').\n",
    "> - __SMSReceived:__ Indicates whether or not 1 or more messages were sent to the patient, (0 means 'No' and 1 means 'Yes').\n",
    "> - __NoShow:__ Indicates whether or not the patient came for their appointment, ( ‘No’ means the patient showed up to their appointment, and ‘Yes’ if they did not show up)."
   ]
  },
  {
   "cell_type": "code",
   "execution_count": 5,
   "id": "c5666ccc-41b0-46d6-b0e6-424c501f3a7e",
   "metadata": {},
   "outputs": [
    {
     "data": {
      "text/plain": [
       "(110527, 14)"
      ]
     },
     "execution_count": 5,
     "metadata": {},
     "output_type": "execute_result"
    }
   ],
   "source": [
    "\"\"\"\n",
    "This function allows us to know how many rows and columns this dataset has.\n",
    "\"\"\"\n",
    "\n",
    "df.shape"
   ]
  },
  {
   "cell_type": "code",
   "execution_count": 6,
   "id": "71bbeb5c-4624-427f-9902-1908bb63b438",
   "metadata": {},
   "outputs": [
    {
     "name": "stdout",
     "output_type": "stream",
     "text": [
      "<class 'pandas.core.frame.DataFrame'>\n",
      "RangeIndex: 110527 entries, 0 to 110526\n",
      "Data columns (total 14 columns):\n",
      " #   Column          Non-Null Count   Dtype  \n",
      "---  ------          --------------   -----  \n",
      " 0   PatientID       110527 non-null  float64\n",
      " 1   AppointmentID   110527 non-null  int64  \n",
      " 2   Gender          110527 non-null  object \n",
      " 3   ScheduledDay    110527 non-null  object \n",
      " 4   AppointmentDay  110527 non-null  object \n",
      " 5   Age             110527 non-null  int64  \n",
      " 6   Neighbourhood   110527 non-null  object \n",
      " 7   Scholarship     110527 non-null  int64  \n",
      " 8   Hypertension    110527 non-null  int64  \n",
      " 9   Diabetes        110527 non-null  int64  \n",
      " 10  Alcoholism      110527 non-null  int64  \n",
      " 11  Handicap        110527 non-null  int64  \n",
      " 12  SMSReceived     110527 non-null  int64  \n",
      " 13  NoShow          110527 non-null  object \n",
      "dtypes: float64(1), int64(8), object(5)\n",
      "memory usage: 11.8+ MB\n"
     ]
    }
   ],
   "source": [
    "\"\"\"\n",
    "This functions gives us a summary of the dataset and the data types within it.\n",
    "\"\"\"\n",
    "\n",
    "df.info()"
   ]
  },
  {
   "cell_type": "code",
   "execution_count": 7,
   "id": "52fda042-38aa-47c1-9f7d-9a4b1108693b",
   "metadata": {},
   "outputs": [
    {
     "data": {
      "text/html": [
       "<div>\n",
       "<style scoped>\n",
       "    .dataframe tbody tr th:only-of-type {\n",
       "        vertical-align: middle;\n",
       "    }\n",
       "\n",
       "    .dataframe tbody tr th {\n",
       "        vertical-align: top;\n",
       "    }\n",
       "\n",
       "    .dataframe thead th {\n",
       "        text-align: right;\n",
       "    }\n",
       "</style>\n",
       "<table border=\"1\" class=\"dataframe\">\n",
       "  <thead>\n",
       "    <tr style=\"text-align: right;\">\n",
       "      <th></th>\n",
       "      <th>PatientID</th>\n",
       "      <th>AppointmentID</th>\n",
       "      <th>Age</th>\n",
       "      <th>Scholarship</th>\n",
       "      <th>Hypertension</th>\n",
       "      <th>Diabetes</th>\n",
       "      <th>Alcoholism</th>\n",
       "      <th>Handicap</th>\n",
       "      <th>SMSReceived</th>\n",
       "    </tr>\n",
       "  </thead>\n",
       "  <tbody>\n",
       "    <tr>\n",
       "      <th>count</th>\n",
       "      <td>1.105270e+05</td>\n",
       "      <td>1.105270e+05</td>\n",
       "      <td>110527.000000</td>\n",
       "      <td>110527.000000</td>\n",
       "      <td>110527.000000</td>\n",
       "      <td>110527.000000</td>\n",
       "      <td>110527.000000</td>\n",
       "      <td>110527.000000</td>\n",
       "      <td>110527.000000</td>\n",
       "    </tr>\n",
       "    <tr>\n",
       "      <th>mean</th>\n",
       "      <td>1.474963e+14</td>\n",
       "      <td>5.675305e+06</td>\n",
       "      <td>37.088874</td>\n",
       "      <td>0.098266</td>\n",
       "      <td>0.197246</td>\n",
       "      <td>0.071865</td>\n",
       "      <td>0.030400</td>\n",
       "      <td>0.022248</td>\n",
       "      <td>0.321026</td>\n",
       "    </tr>\n",
       "    <tr>\n",
       "      <th>std</th>\n",
       "      <td>2.560949e+14</td>\n",
       "      <td>7.129575e+04</td>\n",
       "      <td>23.110205</td>\n",
       "      <td>0.297675</td>\n",
       "      <td>0.397921</td>\n",
       "      <td>0.258265</td>\n",
       "      <td>0.171686</td>\n",
       "      <td>0.161543</td>\n",
       "      <td>0.466873</td>\n",
       "    </tr>\n",
       "    <tr>\n",
       "      <th>min</th>\n",
       "      <td>3.921784e+04</td>\n",
       "      <td>5.030230e+06</td>\n",
       "      <td>-1.000000</td>\n",
       "      <td>0.000000</td>\n",
       "      <td>0.000000</td>\n",
       "      <td>0.000000</td>\n",
       "      <td>0.000000</td>\n",
       "      <td>0.000000</td>\n",
       "      <td>0.000000</td>\n",
       "    </tr>\n",
       "    <tr>\n",
       "      <th>25%</th>\n",
       "      <td>4.172614e+12</td>\n",
       "      <td>5.640286e+06</td>\n",
       "      <td>18.000000</td>\n",
       "      <td>0.000000</td>\n",
       "      <td>0.000000</td>\n",
       "      <td>0.000000</td>\n",
       "      <td>0.000000</td>\n",
       "      <td>0.000000</td>\n",
       "      <td>0.000000</td>\n",
       "    </tr>\n",
       "    <tr>\n",
       "      <th>50%</th>\n",
       "      <td>3.173184e+13</td>\n",
       "      <td>5.680573e+06</td>\n",
       "      <td>37.000000</td>\n",
       "      <td>0.000000</td>\n",
       "      <td>0.000000</td>\n",
       "      <td>0.000000</td>\n",
       "      <td>0.000000</td>\n",
       "      <td>0.000000</td>\n",
       "      <td>0.000000</td>\n",
       "    </tr>\n",
       "    <tr>\n",
       "      <th>75%</th>\n",
       "      <td>9.439172e+13</td>\n",
       "      <td>5.725524e+06</td>\n",
       "      <td>55.000000</td>\n",
       "      <td>0.000000</td>\n",
       "      <td>0.000000</td>\n",
       "      <td>0.000000</td>\n",
       "      <td>0.000000</td>\n",
       "      <td>0.000000</td>\n",
       "      <td>1.000000</td>\n",
       "    </tr>\n",
       "    <tr>\n",
       "      <th>max</th>\n",
       "      <td>9.999816e+14</td>\n",
       "      <td>5.790484e+06</td>\n",
       "      <td>115.000000</td>\n",
       "      <td>1.000000</td>\n",
       "      <td>1.000000</td>\n",
       "      <td>1.000000</td>\n",
       "      <td>1.000000</td>\n",
       "      <td>4.000000</td>\n",
       "      <td>1.000000</td>\n",
       "    </tr>\n",
       "  </tbody>\n",
       "</table>\n",
       "</div>"
      ],
      "text/plain": [
       "          PatientID  AppointmentID            Age    Scholarship  \\\n",
       "count  1.105270e+05   1.105270e+05  110527.000000  110527.000000   \n",
       "mean   1.474963e+14   5.675305e+06      37.088874       0.098266   \n",
       "std    2.560949e+14   7.129575e+04      23.110205       0.297675   \n",
       "min    3.921784e+04   5.030230e+06      -1.000000       0.000000   \n",
       "25%    4.172614e+12   5.640286e+06      18.000000       0.000000   \n",
       "50%    3.173184e+13   5.680573e+06      37.000000       0.000000   \n",
       "75%    9.439172e+13   5.725524e+06      55.000000       0.000000   \n",
       "max    9.999816e+14   5.790484e+06     115.000000       1.000000   \n",
       "\n",
       "        Hypertension       Diabetes     Alcoholism       Handicap  \\\n",
       "count  110527.000000  110527.000000  110527.000000  110527.000000   \n",
       "mean        0.197246       0.071865       0.030400       0.022248   \n",
       "std         0.397921       0.258265       0.171686       0.161543   \n",
       "min         0.000000       0.000000       0.000000       0.000000   \n",
       "25%         0.000000       0.000000       0.000000       0.000000   \n",
       "50%         0.000000       0.000000       0.000000       0.000000   \n",
       "75%         0.000000       0.000000       0.000000       0.000000   \n",
       "max         1.000000       1.000000       1.000000       4.000000   \n",
       "\n",
       "         SMSReceived  \n",
       "count  110527.000000  \n",
       "mean        0.321026  \n",
       "std         0.466873  \n",
       "min         0.000000  \n",
       "25%         0.000000  \n",
       "50%         0.000000  \n",
       "75%         1.000000  \n",
       "max         1.000000  "
      ]
     },
     "execution_count": 7,
     "metadata": {},
     "output_type": "execute_result"
    }
   ],
   "source": [
    "\"\"\"\n",
    "This functions provides a statistical summary of the dataset's variables.\n",
    "\"\"\"\n",
    "\n",
    "df.describe()"
   ]
  },
  {
   "cell_type": "code",
   "execution_count": 8,
   "id": "b84f8b11-ad92-44cd-b589-f65b8342ed01",
   "metadata": {},
   "outputs": [
    {
     "data": {
      "image/png": "[encoded data removed]",
      "text/plain": [
       "<Figure size 720x1008 with 9 Axes>"
      ]
     },
     "metadata": {},
     "output_type": "display_data"
    }
   ],
   "source": [
    "\"\"\"\n",
    "We are plotting histograms for the variables so that we can have an\n",
    "idea of the how the data values look.\n",
    "\"\"\"\n",
    "\n",
    "df.hist(figsize=(10, 14));"
   ]
  },
  {
   "cell_type": "code",
   "execution_count": 9,
   "id": "6e1440bf-f7f6-4d22-bbb3-ba27b3ea0eb4",
   "metadata": {},
   "outputs": [
    {
     "data": {
      "text/plain": [
       "NoShow\n",
       "No     88208\n",
       "Yes    22319\n",
       "dtype: int64"
      ]
     },
     "execution_count": 9,
     "metadata": {},
     "output_type": "execute_result"
    }
   ],
   "source": [
    "\"\"\"\n",
    "Counting how many patients fulfilled their appointments and how many did not.\n",
    "\"\"\"\n",
    "\n",
    "df.value_counts('NoShow')"
   ]
  },
  {
   "cell_type": "code",
   "execution_count": 10,
   "id": "8f2d1f77-b3d1-4c9b-bae0-8f5693690964",
   "metadata": {},
   "outputs": [
    {
     "data": {
      "text/plain": [
       "0"
      ]
     },
     "execution_count": 10,
     "metadata": {},
     "output_type": "execute_result"
    }
   ],
   "source": [
    "\"\"\"\n",
    "Checking for any duplicates in this dataset.\n",
    "\"\"\"\n",
    "\n",
    "sum(df.duplicated())"
   ]
  },
  {
   "cell_type": "code",
   "execution_count": 11,
   "id": "1ea3409d-8701-4163-a943-df65645c2fd4",
   "metadata": {},
   "outputs": [
    {
     "data": {
      "text/plain": [
       "PatientID          62299\n",
       "AppointmentID     110527\n",
       "Gender                 2\n",
       "ScheduledDay      103549\n",
       "AppointmentDay        27\n",
       "Age                  104\n",
       "Neighbourhood         81\n",
       "Scholarship            2\n",
       "Hypertension           2\n",
       "Diabetes               2\n",
       "Alcoholism             2\n",
       "Handicap               5\n",
       "SMSReceived            2\n",
       "NoShow                 2\n",
       "dtype: int64"
      ]
     },
     "execution_count": 11,
     "metadata": {},
     "output_type": "execute_result"
    }
   ],
   "source": [
    "\"\"\"\n",
    "Checking the amount of unique values in this dataset.\n",
    "\"\"\"\n",
    "\n",
    "df.nunique()"
   ]
  },
  {
   "cell_type": "code",
   "execution_count": 12,
   "id": "a4279f52-34ce-49d3-ab27-f4a6fb0225c0",
   "metadata": {},
   "outputs": [
    {
     "data": {
      "text/plain": [
       "PatientID         0\n",
       "AppointmentID     0\n",
       "Gender            0\n",
       "ScheduledDay      0\n",
       "AppointmentDay    0\n",
       "Age               0\n",
       "Neighbourhood     0\n",
       "Scholarship       0\n",
       "Hypertension      0\n",
       "Diabetes          0\n",
       "Alcoholism        0\n",
       "Handicap          0\n",
       "SMSReceived       0\n",
       "NoShow            0\n",
       "dtype: int64"
      ]
     },
     "execution_count": 12,
     "metadata": {},
     "output_type": "execute_result"
    }
   ],
   "source": [
    "\"\"\"\n",
    "Checking for null values in this dataset.\n",
    "\"\"\"\n",
    "\n",
    "df.isnull().sum()"
   ]
  },
  {
   "cell_type": "code",
   "execution_count": 13,
   "id": "b5f88bfe-5b69-42a4-9751-c2879b9822e0",
   "metadata": {},
   "outputs": [
    {
     "data": {
      "text/plain": [
       "Gender\n",
       "F    71840\n",
       "M    38687\n",
       "dtype: int64"
      ]
     },
     "execution_count": 13,
     "metadata": {},
     "output_type": "execute_result"
    }
   ],
   "source": [
    "\"\"\"\n",
    "This functions allows us to see the number of patients who are either male or female for future exploration.\n",
    "\"\"\"\n",
    "\n",
    "df.value_counts('Gender')"
   ]
  },
  {
   "cell_type": "markdown",
   "id": "394895aa-2310-4a6f-82bc-9b379df898ed",
   "metadata": {
    "tags": []
   },
   "source": [
    "### Data Cleaning\n",
    "> To understand the general properties of the dataset, we performed some preliminary data wrangling. Through this wrangling, we observed that the data has _no null values and no duplicate values._ As such, we do not need to drop nor replace any missing values in the dataset. We will, however, be dropping the following variables as we will not require them for our analysis: __'PatientID', 'AppointmentID', 'ScheduledDay', 'AppointmentDay' and 'Neighbourhood'.__\n",
    ">\n",
    "> We are interested in the following variables for our analysis: __'Gender', 'Scholarship' and 'Age'.__ Do these factors influence whether or not a patient will show up for their appointment? We will keep the set values for the __'Gender'__ variable as they are easier to understand for this variable than using binary values like with the __'Diabetes'__ variable for example.\n",
    ">\n",
    "> Lastly, we will drop the age value of -1 as it is not a valid age and also create categories (bins) for the different age groups under the __'Age'__ variable so that we can infer whether or not the patient's age is a factor in them showing up for their appointment."
   ]
  },
  {
   "cell_type": "code",
   "execution_count": 14,
   "id": "7b748eed-b6f9-4f5e-bc66-2edff1317466",
   "metadata": {},
   "outputs": [],
   "source": [
    "\"\"\"\n",
    "In this cell, we are dropping the columns that we do not need for this analysis as well as the invalid age of -1.\n",
    "\"\"\"\n",
    "\n",
    "# creating a list of the columns to be dropped from the dataset\n",
    "columns_to_drop = ['PatientID', 'AppointmentID', 'ScheduledDay', 'AppointmentDay', 'Neighbourhood']\n",
    "df.drop(columns_to_drop, axis=1, inplace=True)"
   ]
  },
  {
   "cell_type": "code",
   "execution_count": 15,
   "id": "630596af-13d8-4dea-8dfa-688bc9ea0567",
   "metadata": {},
   "outputs": [
    {
     "data": {
      "text/html": [
       "<div>\n",
       "<style scoped>\n",
       "    .dataframe tbody tr th:only-of-type {\n",
       "        vertical-align: middle;\n",
       "    }\n",
       "\n",
       "    .dataframe tbody tr th {\n",
       "        vertical-align: top;\n",
       "    }\n",
       "\n",
       "    .dataframe thead th {\n",
       "        text-align: right;\n",
       "    }\n",
       "</style>\n",
       "<table border=\"1\" class=\"dataframe\">\n",
       "  <thead>\n",
       "    <tr style=\"text-align: right;\">\n",
       "      <th></th>\n",
       "      <th>Gender</th>\n",
       "      <th>Age</th>\n",
       "      <th>Scholarship</th>\n",
       "      <th>Hypertension</th>\n",
       "      <th>Diabetes</th>\n",
       "      <th>Alcoholism</th>\n",
       "      <th>Handicap</th>\n",
       "      <th>SMSReceived</th>\n",
       "      <th>NoShow</th>\n",
       "    </tr>\n",
       "  </thead>\n",
       "  <tbody>\n",
       "    <tr>\n",
       "      <th>99832</th>\n",
       "      <td>F</td>\n",
       "      <td>-1</td>\n",
       "      <td>0</td>\n",
       "      <td>0</td>\n",
       "      <td>0</td>\n",
       "      <td>0</td>\n",
       "      <td>0</td>\n",
       "      <td>0</td>\n",
       "      <td>No</td>\n",
       "    </tr>\n",
       "  </tbody>\n",
       "</table>\n",
       "</div>"
      ],
      "text/plain": [
       "      Gender  Age  Scholarship  Hypertension  Diabetes  Alcoholism  Handicap  \\\n",
       "99832      F   -1            0             0         0           0         0   \n",
       "\n",
       "       SMSReceived NoShow  \n",
       "99832            0     No  "
      ]
     },
     "execution_count": 15,
     "metadata": {},
     "output_type": "execute_result"
    }
   ],
   "source": [
    "# find the index of the -1 value\n",
    "df.query('Age == -1')"
   ]
  },
  {
   "cell_type": "code",
   "execution_count": 16,
   "id": "b8aa4501-b61a-41e1-a79c-ac029f9b0e6c",
   "metadata": {},
   "outputs": [
    {
     "name": "stdout",
     "output_type": "stream",
     "text": [
      "<class 'pandas.core.frame.DataFrame'>\n",
      "Int64Index: 110526 entries, 0 to 110526\n",
      "Data columns (total 9 columns):\n",
      " #   Column        Non-Null Count   Dtype \n",
      "---  ------        --------------   ----- \n",
      " 0   Gender        110526 non-null  object\n",
      " 1   Age           110526 non-null  int64 \n",
      " 2   Scholarship   110526 non-null  int64 \n",
      " 3   Hypertension  110526 non-null  int64 \n",
      " 4   Diabetes      110526 non-null  int64 \n",
      " 5   Alcoholism    110526 non-null  int64 \n",
      " 6   Handicap      110526 non-null  int64 \n",
      " 7   SMSReceived   110526 non-null  int64 \n",
      " 8   NoShow        110526 non-null  object\n",
      "dtypes: int64(7), object(2)\n",
      "memory usage: 8.4+ MB\n"
     ]
    }
   ],
   "source": [
    "# drop the -1 value by using its indice\n",
    "df = df.drop(df.index[99832])\n",
    "\n",
    "df.info()"
   ]
  },
  {
   "cell_type": "markdown",
   "id": "401e5b3a-5d1e-479f-973a-a091a7d0b648",
   "metadata": {},
   "source": [
    "<a id='eda'></a>\n",
    "## Exploratory Data Analysis\n",
    "> As we have cleaned the data, we will now proceed to the exploration of the dataset so as to answer our previously proposed questions. In order for our EDA to be systematic, we will analyse one variable at a time and then assess any correlations between the variables themselves. To do this, we are going to compare the __'NoShow'__ variable to each of the three variables we are focusing on - __'Gender', 'Scholarship' and 'Age'__. We will then analyse the relationships between the three independent variables.\n",
    "\n",
    "### Question 1 - Do female patients show up for their appointments more than the males do?"
   ]
  },
  {
   "cell_type": "code",
   "execution_count": 17,
   "id": "295a3f92-3d11-4d39-98a3-5c667bffa53d",
   "metadata": {},
   "outputs": [
    {
     "data": {
      "text/plain": [
       "NoShow  Gender\n",
       "No      F         57245\n",
       "        M         30962\n",
       "Yes     F         14594\n",
       "        M          7725\n",
       "dtype: int64"
      ]
     },
     "execution_count": 17,
     "metadata": {},
     "output_type": "execute_result"
    }
   ],
   "source": [
    "\"\"\"\n",
    "To answer this question, we will compare the percentage of females who showed up for their appointment\n",
    "against the percentage of males who also showed up for their appointment.\n",
    "\n",
    "We will then use pie charts to compare the attendance of the males against the females in this dataset.\n",
    "\"\"\"\n",
    "\n",
    "# determining the categories for the pie chart\n",
    "df.groupby(['NoShow', 'Gender']).size()"
   ]
  },
  {
   "cell_type": "code",
   "execution_count": 18,
   "id": "f8765d4e-58b2-480d-8409-6df09bae1568",
   "metadata": {},
   "outputs": [
    {
     "name": "stdout",
     "output_type": "stream",
     "text": [
      "79.68402004454343 80.03205211052808\n"
     ]
    }
   ],
   "source": [
    "\"\"\"\n",
    "In the cell below, we will be comparing the percentage of males and females who showed up for their appointment.\n",
    "\"\"\"\n",
    "# total patients grouped by gender\n",
    "total_females = 71840\n",
    "total_males = 38687\n",
    "\n",
    "# total patients who showed up for their appointments grouped by gender\n",
    "total_females_show = 57245\n",
    "total_males_show = 30962\n",
    "\n",
    "# percentage of patients who showed up for their appointments by gender\n",
    "females_perc_show = (total_females_show/total_females) * 100\n",
    "males_perc_show = (total_males_show/total_males) * 100\n",
    "\n",
    "# printing the percentage of the proportions for a clearer image\n",
    "print(females_perc_show, males_perc_show)"
   ]
  },
  {
   "cell_type": "code",
   "execution_count": 19,
   "id": "4e5e1165-4ef6-40d8-a1f6-96798f2836d1",
   "metadata": {},
   "outputs": [
    {
     "name": "stdout",
     "output_type": "stream",
     "text": [
      "0.3480320659846541\n"
     ]
    }
   ],
   "source": [
    "\"\"\"\n",
    "Below, we are calculating the percentage difference between the males and females who showed up for their appointment.\n",
    "\"\"\"\n",
    "\n",
    "def perc_dif(females_perc_show, males_perc_show):\n",
    "    dif = abs(females_perc_show - males_perc_show)\n",
    "    return dif\n",
    "\n",
    "print(perc_dif(females_perc_show, males_perc_show))"
   ]
  },
  {
   "cell_type": "code",
   "execution_count": 20,
   "id": "37ee4352-a5c5-4f11-bc46-a4f3d36070ea",
   "metadata": {},
   "outputs": [],
   "source": [
    "\"\"\"\n",
    "These following functions allow us to create pie charts for us to\n",
    "assess the differences in the attendances visually.\n",
    "\"\"\"\n",
    "\n",
    "# plotting function\n",
    "# we will plot the pie charts for males and females and we'll start with the females\n",
    "def plot_pie_gender_female(females_perc_show):\n",
    "    labels = 'Female Show', 'Female No-Show'\n",
    "    cut_points = [57245, 14594]\n",
    "    colours = ['blue', 'lightgreen']\n",
    "\n",
    "    # piechart title and axis\n",
    "    fig1, ax = plt.subplots()\n",
    "    ax.pie(cut_points, labels = labels, colors = colours, autopct = '%1.7f%%')\n",
    "    plt.title(\"Percentage of Female Patients' Attendance\", fontsize = 16)\n",
    "\n",
    "    # the equal aspect ratio ensures that pie is drawn as a circle.\n",
    "    ax.axis('equal')\n",
    "    # showing the plot\n",
    "    plt.show(1)\n",
    "    \n",
    "    return plot_pie_gender_female\n",
    "\n",
    "# pie chart for the male patients\n",
    "def plot_pie_gender_male(males_perc_show):\n",
    "    labels = 'Male Show', 'Male No-Show'\n",
    "    cut_points = [30962, 7725]\n",
    "    colours = ['blue', 'lightgreen']\n",
    "\n",
    "    # piechart title and axis\n",
    "    fig1, ax = plt.subplots()\n",
    "    ax.pie(cut_points, labels = labels, colors = colours, autopct = '%1.7f%%')\n",
    "    plt.title(\"Percentage of Male Patients' Attendance\", fontsize = 16)\n",
    "\n",
    "    # the equal aspect ratio ensures that pie is drawn as a circle.\n",
    "    ax.axis('equal')\n",
    "    # show the plot\n",
    "    plt.show(2)\n",
    "    \n",
    "    return plot_pie_gender_male"
   ]
  },
  {
   "cell_type": "code",
   "execution_count": 21,
   "id": "df23ea73-a06b-4bae-ac09-a3d75c34583f",
   "metadata": {},
   "outputs": [
    {
     "data": {
      "image/png": "[encoded data removed]",
      "text/plain": [
       "<Figure size 432x288 with 1 Axes>"
      ]
     },
     "metadata": {},
     "output_type": "display_data"
    },
    {
     "data": {
      "image/png": "[encoded data removed]",
      "text/plain": [
       "<Figure size 432x288 with 1 Axes>"
      ]
     },
     "metadata": {},
     "output_type": "display_data"
    }
   ],
   "source": [
    "plot_pie_gender_female(females_perc_show), plot_pie_gender_male(males_perc_show);"
   ]
  },
  {
   "cell_type": "markdown",
   "id": "41b64c80-3259-4b80-bc3b-bbf5c4c3c5dd",
   "metadata": {
    "tags": []
   },
   "source": [
    "#### Question 1 Answer\n",
    "> From the above data and the pie charts, we can see that __79.6851277%__ of the _female_ patients showed up for their apointment whilst __80.0320506%__ of the _male_ patients showed up for theirs. The difference between the males' and females' attendance is __0.3480321%__. This small difference between the genders' attendance indicates that there is insufficient data to determine whether or not the gender of a patient is a factor in them showing up for their appointment. Albeit, it is important to note that this dataset has __29.9953857%__ _less males than females._"
   ]
  },
  {
   "cell_type": "markdown",
   "id": "d989f8ae-99ef-451f-831d-486c0be2b8b1",
   "metadata": {},
   "source": [
    "### Question 2 - Does being enrolled in the Brasilian welfare program influence if a patient will show up for their apointment?"
   ]
  },
  {
   "cell_type": "code",
   "execution_count": 22,
   "id": "c9fadb05-9cba-4a23-919b-8cd15ffe3c4b",
   "metadata": {},
   "outputs": [
    {
     "data": {
      "text/plain": [
       "NoShow  Scholarship\n",
       "No      0              79924\n",
       "        1               8283\n",
       "Yes     0              19741\n",
       "        1               2578\n",
       "dtype: int64"
      ]
     },
     "execution_count": 22,
     "metadata": {},
     "output_type": "execute_result"
    }
   ],
   "source": [
    "\"\"\"\n",
    "To answer this question, we will plot a histogram to show the differences between those on the welfare program and those who aren't.\n",
    "\"\"\"\n",
    "\n",
    "df.groupby(['NoShow', 'Scholarship']).size()"
   ]
  },
  {
   "cell_type": "code",
   "execution_count": 23,
   "id": "d2118f5c-4d0d-4347-8643-dc38fc8f1040",
   "metadata": {},
   "outputs": [
    {
     "data": {
      "text/plain": [
       "Scholarship\n",
       "0    99665\n",
       "1    10861\n",
       "dtype: int64"
      ]
     },
     "execution_count": 23,
     "metadata": {},
     "output_type": "execute_result"
    }
   ],
   "source": [
    "\"\"\"\n",
    "This functions allows use to see the number of patients who are either on the welfare program or who aren't.\n",
    "\"\"\"\n",
    "\n",
    "df.value_counts(\"Scholarship\")"
   ]
  },
  {
   "cell_type": "code",
   "execution_count": 24,
   "id": "90fb9101-0551-42f5-8c9f-ff3361c06d17",
   "metadata": {},
   "outputs": [
    {
     "name": "stdout",
     "output_type": "stream",
     "text": [
      "76.26369579228432 80.19264536196258\n"
     ]
    }
   ],
   "source": [
    "\"\"\"\n",
    "In the cell below, we will be comparing the percentage of those on the welfare program who showed up for \n",
    "their appointments and those who aren't on the welfare program who also showed up for their appointments.\n",
    "\n",
    "We will then use a histogram to compare the attendance of those on the welfare program and those who aren't.\n",
    "\"\"\"\n",
    "# total patients grouped by scholarship\n",
    "total_scholarship = 10861\n",
    "total_no_scholarship = 99665\n",
    "\n",
    "# total patients who showed up for their appointments grouped by scholarship\n",
    "total_scholarship_show = 8283\n",
    "total_no_scholarship_show = 79924\n",
    "\n",
    "# the percentage of patients who showed up for their appointments by scholarship\n",
    "scholarship_perc_show = (total_scholarship_show/total_scholarship) * 100\n",
    "no_scholarship_perc_show = (total_no_scholarship_show/total_no_scholarship) * 100\n",
    "\n",
    "# printing the percentage of the proportions for a clearer image\n",
    "print(scholarship_perc_show, no_scholarship_perc_show)"
   ]
  },
  {
   "cell_type": "code",
   "execution_count": 25,
   "id": "9d8d6189",
   "metadata": {},
   "outputs": [
    {
     "name": "stdout",
     "output_type": "stream",
     "text": [
      "3.9289495696782524\n"
     ]
    }
   ],
   "source": [
    "\"\"\"\n",
    "Below, we are calculating the percentage difference between the \n",
    "patients with and without scholarships who showed up for their appointment.\n",
    "\"\"\"\n",
    "\n",
    "def perc_dif_schol(scholarship_perc_show, no_scholarship_perc_show):\n",
    "    dif_schol = abs(scholarship_perc_show - no_scholarship_perc_show)\n",
    "    return dif_schol\n",
    "\n",
    "print(perc_dif_schol(scholarship_perc_show, no_scholarship_perc_show))"
   ]
  },
  {
   "cell_type": "code",
   "execution_count": 26,
   "id": "8f57450e",
   "metadata": {},
   "outputs": [],
   "source": [
    "\"\"\"\n",
    "The following functions allow us to plot a bar chart so that we can see the \n",
    "differences visually.\n",
    "\"\"\"\n",
    "schol_no_show = df.groupby(['Scholarship','NoShow']).size().unstack(fill_value=0)\n",
    "\n",
    "# plot_barh function\n",
    "def plot_bar_schol_no_show(schol_no_show):\n",
    "    schol_no_show.plot.bar()\n",
    "\n",
    "    # Set titles and axes\n",
    "    plt.title('Patients Grouped by Scholarship', fontsize = 20)\n",
    "    plt.xlabel('Scholarship', fontsize=16)\n",
    "    plt.ylabel('Number of Patients', fontsize=16)\n",
    "\n",
    "    # use the magic word to show the bar graph\n",
    "    plt.show()\n",
    "    \n",
    "    return plot_bar_schol_no_show"
   ]
  },
  {
   "cell_type": "code",
   "execution_count": 27,
   "id": "439afad6-359c-40a9-8ef8-a4e1f8f949a6",
   "metadata": {},
   "outputs": [
    {
     "data": {
      "image/png": "[encoded data removed]",
      "text/plain": [
       "<Figure size 432x288 with 1 Axes>"
      ]
     },
     "metadata": {},
     "output_type": "display_data"
    },
    {
     "name": "stdout",
     "output_type": "stream",
     "text": [
      "<function plot_bar_schol_no_show at 0x0000023141F63EE0>\n"
     ]
    }
   ],
   "source": [
    "print(plot_bar_schol_no_show(schol_no_show));"
   ]
  },
  {
   "cell_type": "markdown",
   "id": "38ddf7f1-bd28-4730-82a9-14c2378fddc0",
   "metadata": {},
   "source": [
    "#### Question 2 Answer\n",
    "> From the data above, we can see that __76.2636958%__ of patients _with the scholarship showed up_ for their appointments whislt __80.1926454%__ of patients _without the scholarship showed up_ for their appointments. There is a difference of __3.9289496%__ between those with the scholarship and those without who showed up for their appointment.\n",
    ">\n",
    "> Based on the data and bar graph, we can infer that _having the scholarship does not influence if a patient will show up for their appointment._"
   ]
  },
  {
   "cell_type": "markdown",
   "id": "12654441-9379-46cd-91dd-eb27e9cd50a3",
   "metadata": {},
   "source": [
    "### Question 3 - Does the age of the patient influence whether or not they will show up for their appointment?"
   ]
  },
  {
   "cell_type": "code",
   "execution_count": 28,
   "id": "2c248c63-ca12-4f07-bfa6-6454e79bb487",
   "metadata": {},
   "outputs": [
    {
     "name": "stdout",
     "output_type": "stream",
     "text": [
      "Child         14373\n",
      "Teen          13783\n",
      "YoungAdult    15052\n",
      "40s           14420\n",
      "50s           15661\n",
      "Retirees      11189\n",
      "70s            5721\n",
      "80s            2544\n",
      "Seniors         301\n",
      "Centurions        2\n",
      "Name: AgeBin, dtype: int64\n"
     ]
    }
   ],
   "source": [
    "\"\"\"\n",
    "This function allows us to create bins for the 'Age' variable.\n",
    "\"\"\"\n",
    "\n",
    "# creating bins for the 'Age' variable\n",
    "bins = [10, 20, 30, 40, 50, 60, 70, 80, 90, 100, 110]\n",
    "labels = ['Child','Teen','YoungAdult','40s','50s', 'Retirees', '70s', '80s', 'Seniors', 'Centurions']\n",
    "df['AgeBin'] = pd.cut(df['Age'], bins = bins, labels = labels, include_lowest = True)\n",
    "\n",
    "print(pd.value_counts(df['AgeBin'], sort = False))"
   ]
  },
  {
   "cell_type": "code",
   "execution_count": 29,
   "id": "d5c7e7f4-f3d8-45d4-98c2-b16c6bc0d918",
   "metadata": {},
   "outputs": [
    {
     "data": {
      "text/plain": [
       "NoShow  AgeBin    \n",
       "No      Child         10761\n",
       "        Teen          10389\n",
       "        YoungAdult    11820\n",
       "        40s           11550\n",
       "        50s           12940\n",
       "        Retirees       9541\n",
       "        70s            4832\n",
       "        80s            2137\n",
       "        Seniors         242\n",
       "        Centurions        2\n",
       "Yes     Child          3612\n",
       "        Teen           3394\n",
       "        YoungAdult     3232\n",
       "        40s            2870\n",
       "        50s            2721\n",
       "        Retirees       1648\n",
       "        70s             889\n",
       "        80s             407\n",
       "        Seniors          59\n",
       "        Centurions        0\n",
       "dtype: int64"
      ]
     },
     "execution_count": 29,
     "metadata": {},
     "output_type": "execute_result"
    }
   ],
   "source": [
    "\"\"\"\n",
    "This function allows us to see the distribution of the 'NoShow' variable under the 'AgeBin' column.\n",
    "\"\"\"\n",
    "\n",
    "df.groupby(['NoShow', 'AgeBin']).size()"
   ]
  },
  {
   "cell_type": "code",
   "execution_count": 30,
   "id": "8835973a",
   "metadata": {},
   "outputs": [],
   "source": [
    "\"\"\"\n",
    "The following function allows us to plot a histogram displaying \n",
    "which age groups have the highest attendance for their appointments. \n",
    "\"\"\"\n",
    "\n",
    "# define new labels\n",
    "labels = np.concatenate(((labels, [labels[9]])))\n",
    "\n",
    "# Plot the histogram and set the xtick properties\n",
    "def plot_hist_age(df):\n",
    "    plot_hist_age = df['Age'].plot(kind = 'hist', bins = bins, \n",
    "                                   align ='right', color = 'purple', \n",
    "                                   edgecolor = 'black');\n",
    "\n",
    "    # Set histogram labels and titles\n",
    "    plt.xlabel('Age Group', fontsize = 16)\n",
    "    plt.ylabel('Number of Patients', fontsize = 16)\n",
    "    plt.title('Number of \"NoShow\" Patients by Age Group', fontsize = 18)\n",
    "    plt.xlim([0, 120])\n",
    "    \n",
    "    plot_hist_age.set_xticks(bins)\n",
    "    plot_hist_age.set_xticklabels(labels, rotation = 60)\n",
    "\n",
    "    # use the magic word to show the bar graph\n",
    "    plt.show()\n",
    "    \n",
    "    return plot_hist_age"
   ]
  },
  {
   "cell_type": "code",
   "execution_count": 31,
   "id": "c1c4a9bb",
   "metadata": {},
   "outputs": [
    {
     "data": {
      "image/png": "[encoded data removed]",
      "text/plain": [
       "<Figure size 432x288 with 1 Axes>"
      ]
     },
     "metadata": {},
     "output_type": "display_data"
    },
    {
     "name": "stdout",
     "output_type": "stream",
     "text": [
      "AxesSubplot(0.125,0.125;0.775x0.755)\n"
     ]
    }
   ],
   "source": [
    "print(plot_hist_age(df));"
   ]
  },
  {
   "cell_type": "markdown",
   "id": "57817669-9686-4f6e-83b7-73fea0444dde",
   "metadata": {
    "tags": []
   },
   "source": [
    "#### Question 3 Answer\n",
    "> Looking at the above data, we can see that the patients in the categories from the __50s and below__ have the highest attendance for their appointments, with the __50s__ category having the highest attendance of __12,940__. The category with the lowest attendance for their appointments is __Centurions__ with a value of __2__."
   ]
  },
  {
   "cell_type": "markdown",
   "id": "38d6643a-97a7-4efc-ae05-2446b7d8fbcc",
   "metadata": {
    "tags": []
   },
   "source": [
    "<a id='conclusions'></a>\n",
    "## Conclusions\n",
    "\n",
    "> We looked at three variable - __'Age', 'Gender' and 'Scholarship'.__ We determined that neither age nor gender influence patients in showing up for their appointments. Logically, we can infer that factors that severely affect a patient's health are a much greater driving force in ensuring that the patient shows up for their appointment.\n",
    ">\n",
    "> We compared the __'Age' and 'Gender'__ variables against the __'NoShow'__ variable seperately. We observed that approximately _80% of both male and female patients showed up_ for their patients, with a _difference of 0.3% between them._ This dataset also had _29% more females than males_, which could be a possible limitation as it does not provide an equal representation based on the sample sizes. \n",
    "> The investigation with the __'Age'__ variable against the __'NoShow'__ highlighted that the categories from the _50s and below have the highest attendance for their appointments_, with the _50s category having the highest attendance of 12,940_. The category with the lowest attendance for their appointments is _Centurions with a value of 2_.\n",
    ">\n",
    "> A limitation to this dataset is there not being information on the distance to the hospital from the patient's place of residence. Several factors such as travel costs or even bad weather could influence the patient's ability to show up for their appointment. Although weather may not be a major factor, but as Brazil is located in the Amazon area, natural phenomena such as heavy rains, flooding and landslides could affect several patients within a particular region. All these factors, although miniscule, can skew the data to a degree.\n",
    ">\n",
    "> In conclusion, not enough information was provided to illustrate whether the gender of a patient affect them showing up for their appointment. The age group of the patient does affect if the patient will show up as we observed."
   ]
  },
  {
   "cell_type": "code",
   "execution_count": null,
   "id": "a16295de",
   "metadata": {},
   "outputs": [],
   "source": []
  }
 ],
 "metadata": {
  "kernelspec": {
   "display_name": "Python 3 (ipykernel)",
   "language": "python",
   "name": "python3"
  },
  "language_info": {
   "codemirror_mode": {
    "name": "ipython",
    "version": 3
   },
   "file_extension": ".py",
   "mimetype": "text/x-python",
   "name": "python",
   "nbconvert_exporter": "python",
   "pygments_lexer": "ipython3",
   "version": "3.9.12"
  }
 },
 "nbformat": 4,
 "nbformat_minor": 5
}
